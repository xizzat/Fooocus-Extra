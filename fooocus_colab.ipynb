{
  "cells": [
    {
      "cell_type": "markdown",
      "source": [
        "Prepare"
      ],
      "metadata": {
        "id": "UU4VQX2uMTJh"
      }
    },
    {
      "cell_type": "code",
      "execution_count": null,
      "metadata": {
        "id": "VjYy0F2gZIPR"
      },
      "outputs": [],
      "source": [
        "!pip install pygit2==1.12.2\n",
        "%cd /content\n",
        "!git clone https://github.com/mashb1t/Fooocus.git\n",
        "%cd /content/Fooocus"
      ]
    },
    {
      "cell_type": "markdown",
      "source": [
        "Run"
      ],
      "metadata": {
        "id": "NBIrweiOMYFl"
      }
    },
    {
      "cell_type": "code",
      "source": [
        "!python entry_with_update.py --share --attention-split --disable-offload-from-vram --always-high-vram"
      ],
      "metadata": {
        "id": "gPZEYpsfMDxQ"
      },
      "execution_count": null,
      "outputs": []
    }
  ],
  "metadata": {
    "accelerator": "GPU",
    "colab": {
      "gpuType": "T4",
      "provenance": [
        {
          "file_id": "https://github.com/mashb1t/Fooocus/blob/main/fooocus_colab.ipynb",
          "timestamp": 1703545226503
        }
      ]
    },
    "kernelspec": {
      "display_name": "Python 3",
      "name": "python3"
    },
    "language_info": {
      "name": "python"
    }
  },
  "nbformat": 4,
  "nbformat_minor": 0
}
